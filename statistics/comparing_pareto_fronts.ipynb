{
 "cells": [
  {
   "cell_type": "markdown",
   "metadata": {},
   "source": [
    "## Comparing Performance of Pareto-Fronts\n",
    "\n",
    "Comparing performance of Pareto-Fronts constructed using:\n",
    "- Reference Bitrate Ladder: Exhaustive Encoding\n",
    "- Cross-Over Bitrates: From target Cross-Over bitrates used during training of models.\n",
    "- Cross-Over Bitrates: From target Cross-Over VMAFs used during training of models.\n",
    "\n",
    "against fixed bitrate ladder"
   ]
  },
  {
   "cell_type": "markdown",
   "metadata": {},
   "source": [
    "### Imports"
   ]
  },
  {
   "cell_type": "markdown",
   "metadata": {},
   "source": [
    "Libraries"
   ]
  },
  {
   "cell_type": "code",
   "execution_count": null,
   "metadata": {},
   "outputs": [],
   "source": [
    "import numpy as np\n",
    "import matplotlib.pyplot as plt\n",
    "import seaborn as sns\n",
    "\n",
    "import os, sys, warnings\n",
    "import pickle\n",
    "from tqdm import tqdm\n",
    "warnings.filterwarnings(\"ignore\")\n",
    "sys.path.append(\"/home/krishna/Constructing-Per-Shot-Bitrate-Ladders-using-Visual-Information-Fidelity\")\n",
    "import functions.IO_functions as IO_functions\n",
    "import functions.extract_functions as extract_functions\n",
    "import functions.standard_bitrate_ladder_functions as standard_bitrate_ladder_functions\n",
    "import bitrate_ladder_construction.BL_functions.cross_over_rate_control as cross_over_rate_control\n",
    "import bitrate_ladder_construction.BL_functions.bitrate_ladder_functions as bitrate_ladder_functions\n",
    "import quality_ladder_construction.QL_functions.quality_ladder_functions as quality_ladder_functions\n",
    "import quality_ladder_construction.QL_functions.cross_over_quality as cross_over_quality\n",
    "import defaults"
   ]
  },
  {
   "cell_type": "markdown",
   "metadata": {},
   "source": [
    "### Parameters"
   ]
  },
  {
   "cell_type": "code",
   "execution_count": null,
   "metadata": {},
   "outputs": [],
   "source": [
    "video_files = defaults.Test_Video_Titles"
   ]
  },
  {
   "cell_type": "markdown",
   "metadata": {},
   "source": [
    "### Constructing Apple's Fixed Bitrate Ladder"
   ]
  },
  {
   "cell_type": "code",
   "execution_count": null,
   "metadata": {},
   "outputs": [],
   "source": [
    "standard_bitrate_ladder_functions.Construct_Fixed_Bitrate_Ladder()"
   ]
  },
  {
   "cell_type": "markdown",
   "metadata": {},
   "source": [
    "### Constructing Reference Bitrate Ladder"
   ]
  },
  {
   "cell_type": "code",
   "execution_count": null,
   "metadata": {},
   "outputs": [],
   "source": [
    "standard_bitrate_ladder_functions.Construct_Reference_Bitrate_Ladder(\n",
    "\tcodec=\"libx265\",\n",
    "\tpreset=\"medium\",\n",
    "\tvideo_files=video_files\n",
    ")"
   ]
  },
  {
   "cell_type": "code",
   "execution_count": null,
   "metadata": {},
   "outputs": [],
   "source": [
    "Metrics = []\n",
    "for video_file in video_files:\n",
    "\tMetrics.append(bitrate_ladder_functions.Calculate_BD_metrics(\n",
    "\t\tvideo_file=video_file,\n",
    "\t\tcodec=\"libx265\",\n",
    "\t\tpreset=\"medium\",\n",
    "\t\tbitrate_ladder_path=\"/home/krishna/Constructing-Per-Shot-Bitrate-Ladders-using-Visual-Information-Fidelity/bitrate_ladder_construction/bitrate_ladders/standard/reference_bitrate_ladder.npy\",\n",
    "\t\tfixed_bitrate_ladder_path=\"/home/krishna/Constructing-Per-Shot-Bitrate-Ladders-using-Visual-Information-Fidelity/bitrate_ladder_construction/bitrate_ladders/standard/fixed_bitrate_ladder.npy\",\n",
    "\t\treference_bitrate_ladder_path=\"/home/krishna/Constructing-Per-Shot-Bitrate-Ladders-using-Visual-Information-Fidelity/bitrate_ladder_construction/bitrate_ladders/standard/reference_bitrate_ladder.npy\"\n",
    "\t))\n",
    "\n",
    "Metrics = np.asarray(Metrics)\n",
    "Metrics = Metrics[np.logical_not(np.all(np.isnan(Metrics), axis=1)), :]\n",
    "mean = np.round(np.mean(Metrics, axis=0), decimals=3)\n",
    "std = np.round(np.std(Metrics, axis=0), decimals=3)\n",
    "\n",
    "# Histogram plot of BD-metrics\n",
    "plt.figure(figsize=(12,8))\n",
    "\n",
    "plt.subplot(2,2,1)\n",
    "plt.title(r\"BD-Rate wrt AL ($\\mu$={}, $\\sigma$={})\".format(mean[0], std[0]))\n",
    "plt.grid()\n",
    "sns.histplot(data=Metrics[:,0], bins=20, kde=True, element=\"step\")\n",
    "\n",
    "plt.subplot(2,2,2)\n",
    "plt.title(r\"BD-VMAF wrt AL ($\\mu$={}, $\\sigma$={})\".format(mean[1], std[1]))\n",
    "plt.grid()\n",
    "sns.histplot(data=Metrics[:,1], bins=20, kde=True, element=\"step\")\n",
    "\n",
    "plt.subplot(2,2,3)\n",
    "plt.title(r\"BD-Rate wrt RL ($\\mu$={}, $\\sigma$={})\".format(mean[2], std[2])) \n",
    "plt.grid()\n",
    "sns.histplot(data=Metrics[:,2], bins=20, kde=True, element=\"step\")\n",
    "\n",
    "plt.subplot(2,2,4)\n",
    "plt.title(r\"BD-VMAF wrt RL ($\\mu$={}, $\\sigma$={})\".format(mean[3], std[3]))\n",
    "plt.grid()\n",
    "sns.histplot(data=Metrics[:,3], bins=20, kde=True, element=\"step\")\n",
    "\n",
    "plt.show()"
   ]
  },
  {
   "cell_type": "markdown",
   "metadata": {},
   "source": [
    "### Constructing True Cross-Over Bitrate Ladder"
   ]
  },
  {
   "cell_type": "code",
   "execution_count": null,
   "metadata": {},
   "outputs": [],
   "source": [
    "Bitrate_Ladders = {}\n",
    "for video_file in video_files:\n",
    "\tvideo_rq_points_info = IO_functions.read_create_jsonfile(os.path.join(defaults.rq_points_dataset_path, \"libx265\", \"medium\", video_file, \"crfs.json\"))\n",
    "\tRQ_pairs = extract_functions.Extract_RQ_Information(\n",
    "\t\tvideo_rq_points_info=video_rq_points_info,\n",
    "\t\tquality_metric=\"vmaf\",\n",
    "\t\tresolutions=defaults.resolutions,\n",
    "\t\tCRFs=defaults.CRFs,\n",
    "\t\tbitrates=None,\n",
    "\t\tQPs=None,\n",
    "\t\tmin_quality=defaults.min_quality,\n",
    "\t\tmax_quality=defaults.max_quality,\n",
    "\t\tmin_bitrate=defaults.min_bitrate,\n",
    "\t\tmax_bitrate=defaults.max_bitrate,\n",
    "\t\tset_bitrate_log_base=2\n",
    "\t)\n",
    "\n",
    "\tCrossOver_Bitrates = cross_over_rate_control.CrossOver_Bitrates(RQ_pairs=RQ_pairs, Resolutions=defaults.resolutions)\n",
    "\n",
    "\tBitrate_Ladder = {}\n",
    "\tfor i in range(len(defaults.evaluation_bitrates)):\n",
    "\t\t# Switching happens to higher resolution when bitrate >= crossover_bitrate of corresponding higher resolution.\n",
    "\t\tb = defaults.evaluation_bitrates[i]\n",
    "\t\tBitrate_Ladder[b] = None\n",
    "\n",
    "\t\tfor j in range(1+len(CrossOver_Bitrates)):\n",
    "\t\t\tif (j==0) and (b >= CrossOver_Bitrates[j]):\n",
    "\t\t\t\tBitrate_Ladder[b] = defaults.resolutions[0]\n",
    "\t\t\telif (j <= len(CrossOver_Bitrates)-1) and (CrossOver_Bitrates[j] <= b < CrossOver_Bitrates[j-1]):\n",
    "\t\t\t\tBitrate_Ladder[b] = defaults.resolutions[j]\n",
    "\t\t\telif (j==len(CrossOver_Bitrates)) and (b < CrossOver_Bitrates[j-1]):\n",
    "\t\t\t\tBitrate_Ladder[b] = defaults.resolutions[-1]\n",
    "\t\t\telse:\n",
    "\t\t\t\tNone\n",
    "\n",
    "\t\tif Bitrate_Ladder[b] is None:\n",
    "\t\t\tassert False, \"Something is Wrong\"\n",
    "\n",
    "\tBitrate_Ladders[video_file] = Bitrate_Ladder\n",
    "\n",
    "np.save(\"/home/krishna/Constructing-Per-Shot-Bitrate-Ladders-using-Visual-Information-Fidelity/bitrate_ladder_construction/bitrate_ladders/standard/true_crossover_bitrate_ladder.npy\", Bitrate_Ladders)"
   ]
  },
  {
   "cell_type": "code",
   "execution_count": null,
   "metadata": {},
   "outputs": [],
   "source": [
    "Metrics = []\n",
    "for video_file in video_files:\n",
    "\tMetrics.append(bitrate_ladder_functions.Calculate_BD_metrics(\n",
    "\t\tvideo_file=video_file,\n",
    "\t\tcodec=\"libx265\",\n",
    "\t\tpreset=\"medium\",\n",
    "\t\tbitrate_ladder_path=\"/home/krishna/Constructing-Per-Shot-Bitrate-Ladders-using-Visual-Information-Fidelity/bitrate_ladder_construction/bitrate_ladders/standard/true_crossover_bitrate_ladder.npy\",\n",
    "\t\tfixed_bitrate_ladder_path=\"/home/krishna/Constructing-Per-Shot-Bitrate-Ladders-using-Visual-Information-Fidelity/bitrate_ladder_construction/bitrate_ladders/standard/fixed_bitrate_ladder.npy\",\n",
    "\t\treference_bitrate_ladder_path=\"/home/krishna/Constructing-Per-Shot-Bitrate-Ladders-using-Visual-Information-Fidelity/bitrate_ladder_construction/bitrate_ladders/standard/reference_bitrate_ladder.npy\"\n",
    "\t))\n",
    "\t\n",
    "Metrics = np.asarray(Metrics)\n",
    "Metrics = Metrics[np.logical_not(np.all(np.isnan(Metrics), axis=1)), :]\n",
    "mean = np.round(np.mean(Metrics, axis=0), decimals=3)\n",
    "std = np.round(np.std(Metrics, axis=0), decimals=3)\n",
    "\n",
    "# Histogram plot of BD-metrics\n",
    "plt.figure(figsize=(12,8))\n",
    "\n",
    "plt.subplot(2,2,1)\n",
    "plt.title(r\"BD-Rate wrt AL ($\\mu$={}, $\\sigma$={})\".format(mean[0], std[0]))\n",
    "plt.grid()\n",
    "sns.histplot(data=Metrics[:,0], bins=20, kde=True, element=\"step\")\n",
    "\n",
    "plt.subplot(2,2,2)\n",
    "plt.title(r\"BD-VMAF wrt AL ($\\mu$={}, $\\sigma$={})\".format(mean[1], std[1]))\n",
    "plt.grid()\n",
    "sns.histplot(data=Metrics[:,1], bins=20, kde=True, element=\"step\")\n",
    "\n",
    "plt.subplot(2,2,3)\n",
    "plt.title(r\"BD-Rate wrt RL ($\\mu$={}, $\\sigma$={})\".format(mean[2], std[2]))\n",
    "plt.grid()\n",
    "sns.histplot(data=Metrics[:,2], bins=20, kde=True, element=\"step\")\n",
    "\n",
    "plt.subplot(2,2,4)\n",
    "plt.title(r\"BD-VMAF wrt RL ($\\mu$={}, $\\sigma$={})\".format(mean[3], std[3]))\n",
    "plt.grid()\n",
    "sns.histplot(data=Metrics[:,3], bins=20, kde=True, element=\"step\")\n",
    "\n",
    "plt.show()"
   ]
  },
  {
   "cell_type": "markdown",
   "metadata": {},
   "source": [
    "### Constructing True Cross-Over Quality Ladder"
   ]
  },
  {
   "cell_type": "code",
   "execution_count": null,
   "metadata": {},
   "outputs": [],
   "source": [
    "Quality_Ladders = {}\n",
    "for video_file in video_files:\n",
    "\tvideo_rq_points_info = IO_functions.read_create_jsonfile(os.path.join(defaults.rq_points_dataset_path, \"libx265\", \"medium\", video_file, \"crfs.json\"))\n",
    "\tRQ_pairs = extract_functions.Extract_RQ_Information(\n",
    "\t\tvideo_rq_points_info=video_rq_points_info,\n",
    "\t\tquality_metric=\"vmaf\",\n",
    "\t\tresolutions=defaults.resolutions,\n",
    "\t\tCRFs=defaults.CRFs,\n",
    "\t\tbitrates=None,\n",
    "\t\tQPs=None,\n",
    "\t\tmin_quality=defaults.min_quality,\n",
    "\t\tmax_quality=defaults.max_quality,\n",
    "\t\tmin_bitrate=defaults.min_bitrate,\n",
    "\t\tmax_bitrate=defaults.max_bitrate,\n",
    "\t\tset_bitrate_log_base=2\n",
    "\t)\n",
    "\n",
    "\tCrossOver_Qualities = cross_over_quality.CrossOver_Quality(RQ_pairs=RQ_pairs, Resolutions=defaults.resolutions)\n",
    "\tCrossOver_Qualities = np.asarray(CrossOver_Qualities)/100.0\n",
    "\n",
    "\n",
    "\tQuality_Ladder = {}\n",
    "\tfor i in range(len(defaults.evaluation_qualities)):\n",
    "\t\t# Switching happens to higher resolution when quality >= crossover_quality of corresponding higher resolution.\n",
    "\t\tq = defaults.evaluation_qualities[i]\n",
    "\t\tQuality_Ladder[q] = None\n",
    "\t\t\n",
    "\t\tfor j in range(1+len(CrossOver_Qualities)):\n",
    "\t\t\tif (j==0) and (q >= CrossOver_Qualities[j]):\n",
    "\t\t\t\tQuality_Ladder[q] = defaults.resolutions[0]\n",
    "\t\t\telif (j <= len(CrossOver_Qualities)-1) and (CrossOver_Qualities[j] <= q < CrossOver_Qualities[j-1]):\n",
    "\t\t\t\tQuality_Ladder[q] = defaults.resolutions[j]\n",
    "\t\t\telif (j==len(CrossOver_Qualities)) and (q < CrossOver_Qualities[j-1]):\n",
    "\t\t\t\tQuality_Ladder[q] = defaults.resolutions[-1]\n",
    "\t\t\telse:\n",
    "\t\t\t\tNone\n",
    "\n",
    "\t\tif Quality_Ladder[q] is None:\n",
    "\t\t\tassert False, \"Something is Wrong\"\n",
    "\n",
    "\tQuality_Ladders[video_file] = Quality_Ladder\n",
    "\n",
    "np.save(\"/home/krishna/Constructing-Per-Shot-Bitrate-Ladders-using-Visual-Information-Fidelity/bitrate_ladder_construction/bitrate_ladders/standard/true_crossover_quality_ladder.npy\", Quality_Ladders)"
   ]
  },
  {
   "cell_type": "code",
   "execution_count": null,
   "metadata": {},
   "outputs": [],
   "source": [
    "Metrics = []\n",
    "for video_file in video_files:\n",
    "\tMetrics.append(quality_ladder_functions.Calculate_BD_metrics(\n",
    "\t\tvideo_file=video_file,\n",
    "\t\tcodec=\"libx265\",\n",
    "\t\tpreset=\"medium\",\n",
    "\t\tquality_ladder_path=\"/home/krishna/Constructing-Per-Shot-Bitrate-Ladders-using-Visual-Information-Fidelity/bitrate_ladder_construction/bitrate_ladders/standard/true_crossover_quality_ladder.npy\",\n",
    "\t\tfixed_bitrate_ladder_path=\"/home/krishna/Constructing-Per-Shot-Bitrate-Ladders-using-Visual-Information-Fidelity/bitrate_ladder_construction/bitrate_ladders/standard/fixed_bitrate_ladder.npy\",\n",
    "\t\treference_bitrate_ladder_path=\"/home/krishna/Constructing-Per-Shot-Bitrate-Ladders-using-Visual-Information-Fidelity/bitrate_ladder_construction/bitrate_ladders/standard/reference_bitrate_ladder.npy\"\n",
    "\t))\n",
    "\n",
    "Metrics = np.asarray(Metrics)\n",
    "Metrics = Metrics[np.logical_not(np.all(np.isnan(Metrics), axis=1)), :]\n",
    "mean = np.round(np.mean(Metrics, axis=0), decimals=3)\n",
    "std = np.round(np.std(Metrics, axis=0), decimals=3)\n",
    "\n",
    "# Histogram plot of BD-metrics\n",
    "plt.figure(figsize=(12,8))\n",
    "\n",
    "plt.subplot(2,2,1)\n",
    "plt.title(r\"BD-Rate wrt AL ($\\mu$={}, $\\sigma$={})\".format(mean[0], std[0]))\n",
    "plt.grid()\n",
    "sns.histplot(data=Metrics[:,0], bins=20, kde=True, element=\"step\")\n",
    "\n",
    "plt.subplot(2,2,2)\n",
    "plt.title(r\"BD-VMAF wrt AL ($\\mu$={}, $\\sigma$={})\".format(mean[1], std[1]))\n",
    "plt.grid()\n",
    "sns.histplot(data=Metrics[:,1], bins=20, kde=True, element=\"step\")\n",
    "\n",
    "plt.subplot(2,2,3)\n",
    "plt.title(r\"BD-Rate wrt RL ($\\mu$={}, $\\sigma$={})\".format(mean[2], std[2]))\n",
    "plt.grid()\n",
    "sns.histplot(data=Metrics[:,2], bins=20, kde=True, element=\"step\")\n",
    "\n",
    "plt.subplot(2,2,4)\n",
    "plt.title(r\"BD-VMAF wrt RL ($\\mu$={}, $\\sigma$={})\".format(mean[3], std[3]))\n",
    "plt.grid()\n",
    "sns.histplot(data=Metrics[:,3], bins=20, kde=True, element=\"step\")\n",
    "\n",
    "plt.show()"
   ]
  }
 ],
 "metadata": {
  "kernelspec": {
   "display_name": "VirtualEnv1",
   "language": "python",
   "name": "python3"
  },
  "language_info": {
   "codemirror_mode": {
    "name": "ipython",
    "version": 3
   },
   "file_extension": ".py",
   "mimetype": "text/x-python",
   "name": "python",
   "nbconvert_exporter": "python",
   "pygments_lexer": "ipython3",
   "version": "3.8.10"
  }
 },
 "nbformat": 4,
 "nbformat_minor": 2
}
